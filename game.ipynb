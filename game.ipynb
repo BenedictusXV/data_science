{
 "cells": [
  {
   "cell_type": "markdown",
   "metadata": {},
   "source": [
    "## Загадываем число"
   ]
  },
  {
   "cell_type": "code",
   "execution_count": 1,
   "metadata": {},
   "outputs": [],
   "source": [
    "import numpy as np\n",
    "\n",
    "predict_number = np.random.randint(1,100) # Загадываем число\n",
    "\n",
    "# Количество попыток\n",
    "\n",
    "def random_predict (number:int=1)-> int:\n",
    "    \"\"\"Рандомно угадываем число\n",
    "    Args:\n",
    "        number (int, optional): Загаданное число. Defaults to 1.\n",
    "\n",
    "    Returns:\n",
    "        int: Число попыток\"\"\"\n",
    "    \n",
    "    count = 0\n",
    "    number=np.random.randint(1, 101) #Предполагаемое число\n",
    "    \n",
    "    while number != predict_number:\n",
    "        count+=1\n",
    "        if number > predict_number:\n",
    "            number = round((number - predict_number)/2)\n",
    "        elif number < predict_number:\n",
    "            number = round((predict_number - number)/2)   \n",
    "        break # Выход из цикла, если угадали\n",
    "\n",
    "    return(count)\n",
    "\n",
    "def score_game(random_predict)->int:\n",
    "    \"\"\"За какое количество попыток из 1000 подходов наш алгоритм в среднем угадывает число\n",
    "    \n",
    "    Args:\n",
    "    random_predict([type]): функция угадывания\n",
    "    \n",
    "    returns:\n",
    "    int: Среднее количество попыток\"\"\"\n",
    "        \n",
    "    count_ls=[] # Список для сохранения количества попыток\n",
    "    np.random.seed(1) # фиксируем сид для воспроизводимости\n",
    "    random_array = np.random.randint(1, 101, size=(1000)) # загадали список чисел\n",
    "    \n",
    "    for number in random_array:\n",
    "        count_ls.append(random_predict(number))\n",
    "    \n",
    "    score=int(np.mean(count_ls)) # находим среднее количество попыток\n",
    "\n",
    "    print(f\"Ваш алгоритм в среднем угадывает число за {score} попыток\")\n",
    "    return score\n",
    "\n",
    "score_game(random_predict)"
   ]
  }
 ],
 "metadata": {
  "kernelspec": {
   "display_name": "Python 3.9.10 64-bit",
   "language": "python",
   "name": "python3"
  },
  "language_info": {
   "codemirror_mode": {
    "name": "ipython",
    "version": 3
   },
   "file_extension": ".py",
   "mimetype": "text/x-python",
   "name": "python",
   "nbconvert_exporter": "python",
   "pygments_lexer": "ipython3",
   "version": "3.9.10"
  },
  "orig_nbformat": 4,
  "vscode": {
   "interpreter": {
    "hash": "60bfa049ae2711d9f03398a45f14685ce47d596e648ff9478e757ce9c0887dda"
   }
  }
 },
 "nbformat": 4,
 "nbformat_minor": 2
}
