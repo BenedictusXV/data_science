{
 "cells": [
  {
   "cell_type": "markdown",
   "metadata": {},
   "source": [
    "# Проект 0. Угадай число\n",
    "\n",
    "### Условия задания\n",
    "Разработать алгоритм, с помощью которого компьтер должен угадать случайно загаданное число за минимальное количество попыток.\n",
    "\n",
    "### Условия соревнования:\n",
    "- Компьютер загадывает целое число от 0 до 100, и нам его нужно угадать. Под «угадать», подразумевается «написать программу, которая угадывает число».\n",
    "- Алгоритм учитывает информацию о том, больше ли случайное число или меньше нужного нам."
   ]
  },
  {
   "cell_type": "code",
   "execution_count": 59,
   "metadata": {},
   "outputs": [
    {
     "data": {
      "text/plain": [
       "6"
      ]
     },
     "execution_count": 59,
     "metadata": {},
     "output_type": "execute_result"
    }
   ],
   "source": [
    "import numpy as np\n",
    "predict_number = np.random.randint(1,100) # Загадываем число\n",
    "\n",
    "# Количество попыток\n",
    "\n",
    "def random_predict (number:int=1)-> int:\n",
    "    \"\"\"Рандомно угадываем число\n",
    "    Args:\n",
    "        number (int, optional): Загаданное число. Defaults to 1.\n",
    "\n",
    "    Returns:\n",
    "        int: Число попыток\"\"\"\n",
    "    \n",
    "    count = 0\n",
    "    number=np.random.randint(1, 101) #Предполагаемое число\n",
    "    limit_a=0\n",
    "    limit_b=100\n",
    "    while True:\n",
    "        count+=1\n",
    "        if number > predict_number:\n",
    "            limit_b = number\n",
    "            number = (limit_b + limit_a)//2 # сужаем область поиска\n",
    "        elif number < predict_number:\n",
    "            limit_a = number\n",
    "            number = (limit_a + limit_b)//2\n",
    "        elif number == predict_number:\n",
    "            break # выходим из цикла\n",
    "    return(count)\n",
    "    print(count)\n",
    "    \n",
    "random_predict ()\n",
    "\n",
    "from game_v3 import random_predict \n",
    "def score_game(random_predict)->int:\n",
    "    \"\"\"За какое количество попыток из 1000 подходов наш алгоритм в среднем угадывает число\n",
    "    \n",
    "    Args:\n",
    "    random_predict([type]): функция угадывания\n",
    "    \n",
    "    returns:\n",
    "    int: Среднее количество попыток\"\"\"\n",
    "        \n",
    "    count_ls=[] # Список для сохранения количества попыток\n",
    "    np.random.seed(1) # фиксируем сид для воспроизводимости\n",
    "    random_array = np.random.randint(1, 101, size=(1000)) # загадали список чисел\n",
    "    \n",
    "    for number in random_array:\n",
    "        count_ls.append(random_predict(number))\n",
    "    \n",
    "    score=int(np.mean(count_ls)) # находим среднее количество попыток\n",
    "\n",
    "    print(f\"Ваш алгоритм в среднем угадывает число за {score} попыток\")\n",
    "    return score\n",
    "\n",
    "score_game(random_predict)"
   ]
  },
  {
   "cell_type": "markdown",
   "metadata": {},
   "source": [
    "### Метрика качества\n",
    "Результаты оцениваются по среднему количеству попыток при 1000 повторений\n",
    "\n",
    "### Результаты:  \n",
    "Компьютер угадывает число в среднем за 6 попыток\n",
    "\n",
    "### Выводы:  \n",
    "Алгоритм с делением области неопределённости на 2 равные части является самым эффективным"
   ]
  }
 ],
 "metadata": {
  "kernelspec": {
   "display_name": "Python 3.9.10 64-bit",
   "language": "python",
   "name": "python3"
  },
  "language_info": {
   "codemirror_mode": {
    "name": "ipython",
    "version": 3
   },
   "file_extension": ".py",
   "mimetype": "text/x-python",
   "name": "python",
   "nbconvert_exporter": "python",
   "pygments_lexer": "ipython3",
   "version": "3.9.10"
  },
  "orig_nbformat": 4,
  "vscode": {
   "interpreter": {
    "hash": "60bfa049ae2711d9f03398a45f14685ce47d596e648ff9478e757ce9c0887dda"
   }
  }
 },
 "nbformat": 4,
 "nbformat_minor": 2
}
